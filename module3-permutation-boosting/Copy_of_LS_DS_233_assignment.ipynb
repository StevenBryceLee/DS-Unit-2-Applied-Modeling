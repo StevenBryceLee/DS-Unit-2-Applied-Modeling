{
  "nbformat": 4,
  "nbformat_minor": 0,
  "metadata": {
    "kernelspec": {
      "display_name": "Python 3",
      "language": "python",
      "name": "python3"
    },
    "language_info": {
      "codemirror_mode": {
        "name": "ipython",
        "version": 3
      },
      "file_extension": ".py",
      "mimetype": "text/x-python",
      "name": "python",
      "nbconvert_exporter": "python",
      "pygments_lexer": "ipython3",
      "version": "3.7.3"
    },
    "colab": {
      "name": "Copy of LS_DS_233_assignment.ipynb",
      "provenance": [],
      "toc_visible": true,
      "include_colab_link": true
    }
  },
  "cells": [
    {
      "cell_type": "markdown",
      "metadata": {
        "id": "view-in-github",
        "colab_type": "text"
      },
      "source": [
        "<a href=\"https://colab.research.google.com/github/StevenBryceLee/DS-Unit-2-Applied-Modeling/blob/master/module3-permutation-boosting/Copy_of_LS_DS_233_assignment.ipynb\" target=\"_parent\"><img src=\"https://colab.research.google.com/assets/colab-badge.svg\" alt=\"Open In Colab\"/></a>"
      ]
    },
    {
      "cell_type": "code",
      "metadata": {
        "id": "nE7tE_Ld-H0h",
        "colab_type": "code",
        "colab": {}
      },
      "source": [
        "#Notes\n",
        "#https://colab.research.google.com/drive/1IrmSOtZ6sP5oOOuzJKlH2CfMu4UwhDGQ"
      ],
      "execution_count": 4,
      "outputs": []
    },
    {
      "cell_type": "markdown",
      "metadata": {
        "colab_type": "text",
        "id": "nCc3XZEyG3XV"
      },
      "source": [
        "Lambda School Data Science\n",
        "\n",
        "*Unit 2, Sprint 3, Module 3*\n",
        "\n",
        "---\n",
        "\n",
        "\n",
        "# Permutation & Boosting\n",
        "\n",
        "You will use your portfolio project dataset for all assignments this sprint.\n",
        "\n",
        "## Assignment\n",
        "\n",
        "Complete these tasks for your project, and document your work.\n",
        "\n",
        "- [ ] If you haven't completed assignment #1, please do so first.\n",
        "- [ ] Continue to clean and explore your data. Make exploratory visualizations.\n",
        "- [ ] Fit a model. Does it beat your baseline? \n",
        "- [ ] Try xgboost.\n",
        "- [ ] Get your model's permutation importances.\n",
        "\n",
        "You should try to complete an initial model today, because the rest of the week, we're making model interpretation visualizations.\n",
        "\n",
        "But, if you aren't ready to try xgboost and permutation importances with your dataset today, that's okay. You can practice with another dataset instead. You may choose any dataset you've worked with previously.\n",
        "\n",
        "The data subdirectory includes the Titanic dataset for classification and the NYC apartments dataset for regression. You may want to choose one of these datasets, because example solutions will be available for each.\n",
        "\n",
        "\n",
        "## Reading\n",
        "\n",
        "Top recommendations in _**bold italic:**_\n",
        "\n",
        "#### Permutation Importances\n",
        "- _**[Kaggle / Dan Becker: Machine Learning Explainability](https://www.kaggle.com/dansbecker/permutation-importance)**_\n",
        "- [Christoph Molnar: Interpretable Machine Learning](https://christophm.github.io/interpretable-ml-book/feature-importance.html)\n",
        "\n",
        "#### (Default) Feature Importances\n",
        "  - [Ando Saabas: Selecting good features, Part 3, Random Forests](https://blog.datadive.net/selecting-good-features-part-iii-random-forests/)\n",
        "  - [Terence Parr, et al: Beware Default Random Forest Importances](https://explained.ai/rf-importance/index.html)\n",
        "\n",
        "#### Gradient Boosting\n",
        "  - [A Gentle Introduction to the Gradient Boosting Algorithm for Machine Learning](https://machinelearningmastery.com/gentle-introduction-gradient-boosting-algorithm-machine-learning/)\n",
        "  - [An Introduction to Statistical Learning](http://www-bcf.usc.edu/~gareth/ISL/ISLR%20Seventh%20Printing.pdf), Chapter 8\n",
        "  - _**[Gradient Boosting Explained](https://www.gormanalysis.com/blog/gradient-boosting-explained/)**_ — Ben Gorman\n",
        "  - [Gradient Boosting Explained](http://arogozhnikov.github.io/2016/06/24/gradient_boosting_explained.html) — Alex Rogozhnikov\n",
        "  - [How to explain gradient boosting](https://explained.ai/gradient-boosting/) — Terence Parr & Jeremy Howard"
      ]
    },
    {
      "cell_type": "markdown",
      "metadata": {
        "id": "DUjFv3L5-O3J",
        "colab_type": "text"
      },
      "source": [
        "###Try xgboost.\n"
      ]
    },
    {
      "cell_type": "code",
      "metadata": {
        "id": "UF6WGyKZ_WWm",
        "colab_type": "code",
        "colab": {
          "base_uri": "https://localhost:8080/",
          "height": 289
        },
        "outputId": "58325529-2c81-4514-b156-cafb89a2d8f3"
      },
      "source": [
        "!pip install category_encoders"
      ],
      "execution_count": 5,
      "outputs": [
        {
          "output_type": "stream",
          "text": [
            "Collecting category_encoders\n",
            "\u001b[?25l  Downloading https://files.pythonhosted.org/packages/44/57/fcef41c248701ee62e8325026b90c432adea35555cbc870aff9cfba23727/category_encoders-2.2.2-py2.py3-none-any.whl (80kB)\n",
            "\r\u001b[K     |████                            | 10kB 17.9MB/s eta 0:00:01\r\u001b[K     |████████▏                       | 20kB 2.9MB/s eta 0:00:01\r\u001b[K     |████████████▏                   | 30kB 3.5MB/s eta 0:00:01\r\u001b[K     |████████████████▎               | 40kB 4.0MB/s eta 0:00:01\r\u001b[K     |████████████████████▎           | 51kB 3.4MB/s eta 0:00:01\r\u001b[K     |████████████████████████▍       | 61kB 3.8MB/s eta 0:00:01\r\u001b[K     |████████████████████████████▍   | 71kB 4.0MB/s eta 0:00:01\r\u001b[K     |████████████████████████████████| 81kB 3.3MB/s \n",
            "\u001b[?25hRequirement already satisfied: scikit-learn>=0.20.0 in /usr/local/lib/python3.6/dist-packages (from category_encoders) (0.22.2.post1)\n",
            "Requirement already satisfied: numpy>=1.14.0 in /usr/local/lib/python3.6/dist-packages (from category_encoders) (1.18.5)\n",
            "Requirement already satisfied: scipy>=1.0.0 in /usr/local/lib/python3.6/dist-packages (from category_encoders) (1.4.1)\n",
            "Requirement already satisfied: pandas>=0.21.1 in /usr/local/lib/python3.6/dist-packages (from category_encoders) (1.0.5)\n",
            "Requirement already satisfied: patsy>=0.5.1 in /usr/local/lib/python3.6/dist-packages (from category_encoders) (0.5.1)\n",
            "Requirement already satisfied: statsmodels>=0.9.0 in /usr/local/lib/python3.6/dist-packages (from category_encoders) (0.10.2)\n",
            "Requirement already satisfied: joblib>=0.11 in /usr/local/lib/python3.6/dist-packages (from scikit-learn>=0.20.0->category_encoders) (0.16.0)\n",
            "Requirement already satisfied: pytz>=2017.2 in /usr/local/lib/python3.6/dist-packages (from pandas>=0.21.1->category_encoders) (2018.9)\n",
            "Requirement already satisfied: python-dateutil>=2.6.1 in /usr/local/lib/python3.6/dist-packages (from pandas>=0.21.1->category_encoders) (2.8.1)\n",
            "Requirement already satisfied: six in /usr/local/lib/python3.6/dist-packages (from patsy>=0.5.1->category_encoders) (1.15.0)\n",
            "Installing collected packages: category-encoders\n",
            "Successfully installed category-encoders-2.2.2\n"
          ],
          "name": "stdout"
        }
      ]
    },
    {
      "cell_type": "code",
      "metadata": {
        "id": "uY2sBc66-zXE",
        "colab_type": "code",
        "colab": {}
      },
      "source": [
        "import pandas as pd\n",
        "test = pd.read_csv('features_test.csv')\n",
        "trainLabels = pd.read_csv('labels_train.csv')\n",
        "trainFeatures = pd.read_csv('features_train.csv')\n",
        "train = pd.merge(trainFeatures,trainLabels,on=trainLabels.columns[:-1].tolist())"
      ],
      "execution_count": 6,
      "outputs": []
    },
    {
      "cell_type": "code",
      "metadata": {
        "id": "6AXq2OP4-w40",
        "colab_type": "code",
        "colab": {}
      },
      "source": [
        "def wrangle(df):\n",
        "  '''\n",
        "  This function wrangles training and testing data from the DengAI datasets\n",
        "\n",
        "  df is a pandas df with either train or test data \n",
        "\n",
        "  returns a cleaned df\n",
        "  '''\n",
        "  #Drop empty rows\n",
        "  #df.drop(df[df.weekofyear==53].index,inplace=True)\n",
        "\n",
        "  #convert datetime\n",
        "  df.week_start_date = pd.to_datetime(df.week_start_date)\n",
        "  #Get days, months, years\n",
        "  df['years'] = df.week_start_date.apply(lambda x: x.year)\n",
        "  df['months'] = df.week_start_date.apply(lambda x: x.month)\n",
        "  df['days'] = df.week_start_date.apply(lambda x: x.day)\n",
        "\n",
        "  #Drop datetime object type\n",
        "  df.drop(['week_start_date',\n",
        "           #'weekofyear'\n",
        "           ],axis=1, inplace = True)\n",
        "\n",
        "  # #Only applying to the training dataset, which contains labels\n",
        "  if 'total_cases' in df.columns:\n",
        "    df.dropna(axis=0,thresh=len(df.columns)-8,inplace=True)\n",
        "\n",
        "\n",
        "  return df\n",
        "train = wrangle(train)\n",
        "test = wrangle(test)"
      ],
      "execution_count": 7,
      "outputs": []
    },
    {
      "cell_type": "code",
      "metadata": {
        "id": "HCIsRmRq_K3f",
        "colab_type": "code",
        "colab": {}
      },
      "source": [
        "\n",
        "from sklearn.model_selection import train_test_split\n",
        "X = train.drop('total_cases',axis=1)\n",
        "y = train.total_cases\n",
        "X_train,X_val,y_train,y_val = train_test_split(X,y,test_size = 0.25,random_state=42)"
      ],
      "execution_count": 10,
      "outputs": []
    },
    {
      "cell_type": "code",
      "metadata": {
        "id": "PWQuBH_u4RxT",
        "colab_type": "code",
        "colab": {
          "base_uri": "https://localhost:8080/",
          "height": 474
        },
        "outputId": "6190fadc-335d-40c5-ddad-d489731b138e"
      },
      "source": [
        "from xgboost import XGBClassifier\n",
        "from category_encoders import OrdinalEncoder\n",
        "from sklearn.impute import SimpleImputer\n",
        "from sklearn.pipeline import make_pipeline\n",
        "import numpy as np\n",
        "import pandas as pd\n",
        "train_test_split\n",
        "pipe = make_pipeline(\n",
        "    OrdinalEncoder(), \n",
        "    SimpleImputer(), \n",
        "    XGBClassifier(n_jobs=10, early_stopping_rounds=10)\n",
        ")\n",
        "\n",
        "pipe.fit(X_train,y_train)\n"
      ],
      "execution_count": 11,
      "outputs": [
        {
          "output_type": "stream",
          "text": [
            "/usr/local/lib/python3.6/dist-packages/statsmodels/tools/_testing.py:19: FutureWarning: pandas.util.testing is deprecated. Use the functions in the public API at pandas.testing instead.\n",
            "  import pandas.util.testing as tm\n"
          ],
          "name": "stderr"
        },
        {
          "output_type": "execute_result",
          "data": {
            "text/plain": [
              "Pipeline(memory=None,\n",
              "         steps=[('ordinalencoder',\n",
              "                 OrdinalEncoder(cols=['city'], drop_invariant=False,\n",
              "                                handle_missing='value', handle_unknown='value',\n",
              "                                mapping=[{'col': 'city',\n",
              "                                          'data_type': dtype('O'),\n",
              "                                          'mapping': sj     1\n",
              "iq     2\n",
              "NaN   -2\n",
              "dtype: int64}],\n",
              "                                return_df=True, verbose=0)),\n",
              "                ('simpleimputer',\n",
              "                 SimpleImputer(add_indicator=False, copy=True, fill_value=None,\n",
              "                               missing_values=nan, stra...\n",
              "                               colsample_bylevel=1, colsample_bynode=1,\n",
              "                               colsample_bytree=1, early_stopping_rounds=10,\n",
              "                               gamma=0, learning_rate=0.1, max_delta_step=0,\n",
              "                               max_depth=3, min_child_weight=1, missing=None,\n",
              "                               n_estimators=100, n_jobs=10, nthread=None,\n",
              "                               objective='multi:softprob', random_state=0,\n",
              "                               reg_alpha=0, reg_lambda=1, scale_pos_weight=1,\n",
              "                               seed=None, silent=None, subsample=1,\n",
              "                               verbosity=1))],\n",
              "         verbose=False)"
            ]
          },
          "metadata": {
            "tags": []
          },
          "execution_count": 11
        }
      ]
    },
    {
      "cell_type": "markdown",
      "metadata": {
        "id": "qIzp9GrE-U1X",
        "colab_type": "text"
      },
      "source": [
        "######Get your model's permutation importances."
      ]
    },
    {
      "cell_type": "code",
      "metadata": {
        "id": "PXfJxYo1_fER",
        "colab_type": "code",
        "colab": {
          "base_uri": "https://localhost:8080/",
          "height": 470
        },
        "outputId": "bea2992e-7d6e-4028-f9f3-95225a952b42"
      },
      "source": [
        "\n",
        "fi = pipe.named_steps['xgbclassifier'].feature_importances_\n",
        "importances = pd.Series(fi,X_train.columns).sort_values(ascending=False)\n",
        "importances"
      ],
      "execution_count": 13,
      "outputs": [
        {
          "output_type": "execute_result",
          "data": {
            "text/plain": [
              "reanalysis_min_air_temp_k                0.066395\n",
              "year                                     0.065597\n",
              "reanalysis_tdtr_k                        0.052076\n",
              "months                                   0.051913\n",
              "weekofyear                               0.049914\n",
              "reanalysis_max_air_temp_k                0.045438\n",
              "reanalysis_specific_humidity_g_per_kg    0.043223\n",
              "station_min_temp_c                       0.042684\n",
              "station_diur_temp_rng_c                  0.042182\n",
              "reanalysis_avg_temp_k                    0.041966\n",
              "station_max_temp_c                       0.041417\n",
              "ndvi_ne                                  0.040426\n",
              "reanalysis_air_temp_k                    0.040087\n",
              "station_avg_temp_c                       0.039897\n",
              "reanalysis_relative_humidity_percent     0.038644\n",
              "ndvi_sw                                  0.038519\n",
              "reanalysis_dew_point_temp_k              0.038294\n",
              "ndvi_nw                                  0.038127\n",
              "reanalysis_precip_amt_kg_per_m2          0.037599\n",
              "ndvi_se                                  0.037384\n",
              "station_precip_mm                        0.036635\n",
              "precipitation_amt_mm                     0.035884\n",
              "days                                     0.035700\n",
              "reanalysis_sat_precip_amt_mm             0.000000\n",
              "years                                    0.000000\n",
              "city                                     0.000000\n",
              "dtype: float32"
            ]
          },
          "metadata": {
            "tags": []
          },
          "execution_count": 13
        }
      ]
    },
    {
      "cell_type": "code",
      "metadata": {
        "id": "6DJbLowQ_geA",
        "colab_type": "code",
        "colab": {
          "base_uri": "https://localhost:8080/",
          "height": 282
        },
        "outputId": "06d087ad-a7c8-4972-c714-c612b09b27aa"
      },
      "source": [
        "importances.head(10).plot(kind='barh')"
      ],
      "execution_count": 14,
      "outputs": [
        {
          "output_type": "execute_result",
          "data": {
            "text/plain": [
              "<matplotlib.axes._subplots.AxesSubplot at 0x7f0ea885b898>"
            ]
          },
          "metadata": {
            "tags": []
          },
          "execution_count": 14
        },
        {
          "output_type": "display_data",
          "data": {
            "image/png": "[encoded data removed]",
            "text/plain": [
              "<Figure size 432x288 with 1 Axes>"
            ]
          },
          "metadata": {
            "tags": [],
            "needs_background": "light"
          }
        }
      ]
    },
    {
      "cell_type": "code",
      "metadata": {
        "id": "MiqBQdvRBmot",
        "colab_type": "code",
        "colab": {
          "base_uri": "https://localhost:8080/",
          "height": 34
        },
        "outputId": "ba58b58f-dd20-4d37-bfb5-9d2692ab17a3"
      },
      "source": [
        "col = 'city'\n",
        "X_val_permuted = X_val.copy()\n",
        "X_val_permuted[col] = np.random.permutation(X_val_permuted[col])\n",
        "pipe.score(X_val_permuted, y_val)"
      ],
      "execution_count": 16,
      "outputs": [
        {
          "output_type": "execute_result",
          "data": {
            "text/plain": [
              "0.10497237569060773"
            ]
          },
          "metadata": {
            "tags": []
          },
          "execution_count": 16
        }
      ]
    },
    {
      "cell_type": "code",
      "metadata": {
        "id": "0Tw0Ae1tCJXP",
        "colab_type": "code",
        "colab": {}
      },
      "source": [
        ""
      ],
      "execution_count": null,
      "outputs": []
    }
  ]
}